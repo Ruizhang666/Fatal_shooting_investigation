{
 "cells": [
  {
   "cell_type": "markdown",
   "metadata": {},
   "source": [
    "# Import Packages and datasets"
   ]
  },
  {
   "cell_type": "code",
   "execution_count": 29,
   "metadata": {},
   "outputs": [],
   "source": [
    "import numpy as np\n",
    "import pandas as pd\n",
    "import altair as alt\n",
    "from vega_datasets import data\n",
    "import matplotlib.pyplot as plt\n",
    "\n",
    "data=pd.read_csv(\"fatal-police-shootings-data (1).csv\")"
   ]
  },
  {
   "cell_type": "markdown",
   "metadata": {},
   "source": [
    "# Project Code"
   ]
  },
  {
   "cell_type": "markdown",
   "metadata": {},
   "source": [
    "In this notebook, you will see necessary code for generating visualization. I will also add comments/explanation for your convenience. This notebook will be divided into two seperate sections as we have two members in the group. We will try to make our code as clear as possible.  "
   ]
  },
  {
   "cell_type": "markdown",
   "metadata": {},
   "source": [
    "# Section I:  \n",
    "\n",
    "Author: Rui Zhang\n",
    "\n",
    "Visualization type: bar charts with its variants and line charts "
   ]
  },
  {
   "cell_type": "markdown",
   "metadata": {},
   "source": [
    "## Data Preprocessing"
   ]
  },
  {
   "cell_type": "code",
   "execution_count": 30,
   "metadata": {},
   "outputs": [],
   "source": [
    "data.race = data.race.replace({'A':'Asian', 'W':'White','H':'Hispanic','B':'Black',\\\n",
    "                                      'O':'Other','N':'Native American'}).fillna('unknown')"
   ]
  },
  {
   "cell_type": "markdown",
   "metadata": {},
   "source": [
    "## Define helper functions"
   ]
  },
  {
   "cell_type": "code",
   "execution_count": 31,
   "metadata": {},
   "outputs": [],
   "source": [
    "def helper(x):\n",
    "    return x[:-3]\n",
    "\n",
    "def helper2(x):\n",
    "    if x!=\"unarmed\":\n",
    "        return \"lethal weapon\"\n",
    "    else:\n",
    "        return \"unarmed\""
   ]
  },
  {
   "cell_type": "markdown",
   "metadata": {},
   "source": [
    "## Engineering the data for visualization (line chart)"
   ]
  },
  {
   "cell_type": "code",
   "execution_count": 32,
   "metadata": {},
   "outputs": [],
   "source": [
    "data[\"date\"]=data[\"date\"].apply(helper)\n",
    "trend=pd.DataFrame(data.groupby(\"date\")[\"id\"].count())\n",
    "trend.reset_index(inplace=True)\n",
    "trend[\"count\"]=trend[\"id\"]\n",
    "trend=trend.drop(\"id\",axis=1)\n",
    "\n",
    "races=pd.DataFrame(data.groupby([\"race\",\"date\"])[\"id\"].count())\n",
    "races[\"count\"]=races[\"id\"]\n",
    "races=races.reset_index()\n",
    "races=races.drop(\"id\",axis=1)\n",
    "list_races=list(races[\"race\"].value_counts().index)\n",
    "\n",
    "\n",
    "data[\"armed\"]=data[\"armed\"].apply(helper2)\n",
    "data=data[data[\"race\"]!=\"Other\"]\n",
    "data=data[data[\"race\"]!=\"Native American\"]\n",
    "data=data[data[\"race\"]!=\"unknown\"]"
   ]
  },
  {
   "cell_type": "markdown",
   "metadata": {},
   "source": [
    "## Plot I and plot II:  Total shooting case over months \n",
    "\n",
    "Note: This shows how shooting cases varies over time. \n",
    "\n",
    "The intereative functionalities are also added to the chart for user convenience. You can zoom and pan and check the numerical values for a specific point. \n",
    "\n",
    "The selection box is also avalable in the second plot. Enter shit+left click to choose multiple line charts. Enter double click to be back to the original state."
   ]
  },
  {
   "cell_type": "code",
   "execution_count": 33,
   "metadata": {},
   "outputs": [
    {
     "data": {
      "text/html": [
       "\n",
       "<div id=\"altair-viz-2fc99ff86180442b9f5f7f5dc00d5c8b\"></div>\n",
       "<script type=\"text/javascript\">\n",
       "  (function(spec, embedOpt){\n",
       "    let outputDiv = document.currentScript.previousElementSibling;\n",
       "    if (outputDiv.id !== \"altair-viz-2fc99ff86180442b9f5f7f5dc00d5c8b\") {\n",
       "      outputDiv = document.getElementById(\"altair-viz-2fc99ff86180442b9f5f7f5dc00d5c8b\");\n",
       "    }\n",
       "    const paths = {\n",
       "      \"vega\": \"https://cdn.jsdelivr.net/npm//vega@5?noext\",\n",
       "      \"vega-lib\": \"https://cdn.jsdelivr.net/npm//vega-lib?noext\",\n",
       "      \"vega-lite\": \"https://cdn.jsdelivr.net/npm//vega-lite@4.8.1?noext\",\n",
       "      \"vega-embed\": \"https://cdn.jsdelivr.net/npm//vega-embed@6?noext\",\n",
       "    };\n",
       "\n",
       "    function loadScript(lib) {\n",
       "      return new Promise(function(resolve, reject) {\n",
       "        var s = document.createElement('script');\n",
       "        s.src = paths[lib];\n",
       "        s.async = true;\n",
       "        s.onload = () => resolve(paths[lib]);\n",
       "        s.onerror = () => reject(`Error loading script: ${paths[lib]}`);\n",
       "        document.getElementsByTagName(\"head\")[0].appendChild(s);\n",
       "      });\n",
       "    }\n",
       "\n",
       "    function showError(err) {\n",
       "      outputDiv.innerHTML = `<div class=\"error\" style=\"color:red;\">${err}</div>`;\n",
       "      throw err;\n",
       "    }\n",
       "\n",
       "    function displayChart(vegaEmbed) {\n",
       "      vegaEmbed(outputDiv, spec, embedOpt)\n",
       "        .catch(err => showError(`Javascript Error: ${err.message}<br>This usually means there's a typo in your chart specification. See the javascript console for the full traceback.`));\n",
       "    }\n",
       "\n",
       "    if(typeof define === \"function\" && define.amd) {\n",
       "      requirejs.config({paths});\n",
       "      require([\"vega-embed\"], displayChart, err => showError(`Error loading script: ${err.message}`));\n",
       "    } else if (typeof vegaEmbed === \"function\") {\n",
       "      displayChart(vegaEmbed);\n",
       "    } else {\n",
       "      loadScript(\"vega\")\n",
       "        .then(() => loadScript(\"vega-lite\"))\n",
       "        .then(() => loadScript(\"vega-embed\"))\n",
       "        .catch(showError)\n",
       "        .then(() => displayChart(vegaEmbed));\n",
       "    }\n",
       "  })({\"config\": {\"view\": {\"continuousWidth\": 400, \"continuousHeight\": 300}}, \"data\": {\"name\": \"data-d2de3c383e3b03b2d423a9a173c47dcf\"}, \"mark\": \"line\", \"encoding\": {\"tooltip\": [{\"type\": \"nominal\", \"field\": \"date\"}, {\"type\": \"quantitative\", \"field\": \"count\"}], \"x\": {\"type\": \"nominal\", \"field\": \"date\"}, \"y\": {\"type\": \"quantitative\", \"field\": \"count\"}}, \"selection\": {\"selector006\": {\"type\": \"interval\", \"bind\": \"scales\", \"encodings\": [\"x\", \"y\"]}}, \"$schema\": \"https://vega.github.io/schema/vega-lite/v4.8.1.json\", \"datasets\": {\"data-d2de3c383e3b03b2d423a9a173c47dcf\": [{\"date\": \"2015-01\", \"count\": 76}, {\"date\": \"2015-02\", \"count\": 77}, {\"date\": \"2015-03\", \"count\": 92}, {\"date\": \"2015-04\", \"count\": 84}, {\"date\": \"2015-05\", \"count\": 71}, {\"date\": \"2015-06\", \"count\": 65}, {\"date\": \"2015-07\", \"count\": 104}, {\"date\": \"2015-08\", \"count\": 94}, {\"date\": \"2015-09\", \"count\": 82}, {\"date\": \"2015-10\", \"count\": 84}, {\"date\": \"2015-11\", \"count\": 77}, {\"date\": \"2015-12\", \"count\": 87}, {\"date\": \"2016-01\", \"count\": 81}, {\"date\": \"2016-02\", \"count\": 85}, {\"date\": \"2016-03\", \"count\": 92}, {\"date\": \"2016-04\", \"count\": 73}, {\"date\": \"2016-05\", \"count\": 74}, {\"date\": \"2016-06\", \"count\": 92}, {\"date\": \"2016-07\", \"count\": 72}, {\"date\": \"2016-08\", \"count\": 82}, {\"date\": \"2016-09\", \"count\": 78}, {\"date\": \"2016-10\", \"count\": 77}, {\"date\": \"2016-11\", \"count\": 77}, {\"date\": \"2016-12\", \"count\": 77}, {\"date\": \"2017-01\", \"count\": 92}, {\"date\": \"2017-02\", \"count\": 100}, {\"date\": \"2017-03\", \"count\": 76}, {\"date\": \"2017-04\", \"count\": 67}, {\"date\": \"2017-05\", \"count\": 74}, {\"date\": \"2017-06\", \"count\": 84}, {\"date\": \"2017-07\", \"count\": 94}, {\"date\": \"2017-08\", \"count\": 82}, {\"date\": \"2017-09\", \"count\": 70}, {\"date\": \"2017-10\", \"count\": 85}, {\"date\": \"2017-11\", \"count\": 84}, {\"date\": \"2017-12\", \"count\": 78}, {\"date\": \"2018-01\", \"count\": 99}, {\"date\": \"2018-02\", \"count\": 80}, {\"date\": \"2018-03\", \"count\": 109}, {\"date\": \"2018-04\", \"count\": 98}, {\"date\": \"2018-05\", \"count\": 83}, {\"date\": \"2018-06\", \"count\": 81}, {\"date\": \"2018-07\", \"count\": 89}, {\"date\": \"2018-08\", \"count\": 74}, {\"date\": \"2018-09\", \"count\": 55}, {\"date\": \"2018-10\", \"count\": 75}, {\"date\": \"2018-11\", \"count\": 76}, {\"date\": \"2018-12\", \"count\": 71}, {\"date\": \"2019-01\", \"count\": 93}, {\"date\": \"2019-02\", \"count\": 72}, {\"date\": \"2019-03\", \"count\": 88}, {\"date\": \"2019-04\", \"count\": 71}, {\"date\": \"2019-05\", \"count\": 74}, {\"date\": \"2019-06\", \"count\": 86}, {\"date\": \"2019-07\", \"count\": 80}, {\"date\": \"2019-08\", \"count\": 86}, {\"date\": \"2019-09\", \"count\": 78}, {\"date\": \"2019-10\", \"count\": 89}, {\"date\": \"2019-11\", \"count\": 76}, {\"date\": \"2019-12\", \"count\": 106}, {\"date\": \"2020-01\", \"count\": 88}, {\"date\": \"2020-02\", \"count\": 78}, {\"date\": \"2020-03\", \"count\": 93}, {\"date\": \"2020-04\", \"count\": 79}, {\"date\": \"2020-05\", \"count\": 111}, {\"date\": \"2020-06\", \"count\": 77}, {\"date\": \"2020-07\", \"count\": 68}, {\"date\": \"2020-08\", \"count\": 87}, {\"date\": \"2020-09\", \"count\": 59}, {\"date\": \"2020-10\", \"count\": 101}, {\"date\": \"2020-11\", \"count\": 91}, {\"date\": \"2020-12\", \"count\": 89}, {\"date\": \"2021-01\", \"count\": 78}, {\"date\": \"2021-02\", \"count\": 86}, {\"date\": \"2021-03\", \"count\": 67}, {\"date\": \"2021-04\", \"count\": 31}]}}, {\"mode\": \"vega-lite\"});\n",
       "</script>"
      ],
      "text/plain": [
       "alt.Chart(...)"
      ]
     },
     "execution_count": 33,
     "metadata": {},
     "output_type": "execute_result"
    }
   ],
   "source": [
    "alt.Chart(trend).mark_line().encode(\n",
    " x='date',\n",
    " y='count',\n",
    " tooltip=[\"date\",\"count\"]\n",
    ").interactive()"
   ]
  },
  {
   "cell_type": "code",
   "execution_count": 34,
   "metadata": {},
   "outputs": [
    {
     "data": {
      "text/html": [
       "\n",
       "<div id=\"altair-viz-0e935b7350c74f07bf42e82d368fa0a7\"></div>\n",
       "<script type=\"text/javascript\">\n",
       "  (function(spec, embedOpt){\n",
       "    let outputDiv = document.currentScript.previousElementSibling;\n",
       "    if (outputDiv.id !== \"altair-viz-0e935b7350c74f07bf42e82d368fa0a7\") {\n",
       "      outputDiv = document.getElementById(\"altair-viz-0e935b7350c74f07bf42e82d368fa0a7\");\n",
       "    }\n",
       "    const paths = {\n",
       "      \"vega\": \"https://cdn.jsdelivr.net/npm//vega@5?noext\",\n",
       "      \"vega-lib\": \"https://cdn.jsdelivr.net/npm//vega-lib?noext\",\n",
       "      \"vega-lite\": \"https://cdn.jsdelivr.net/npm//vega-lite@4.8.1?noext\",\n",
       "      \"vega-embed\": \"https://cdn.jsdelivr.net/npm//vega-embed@6?noext\",\n",
       "    };\n",
       "\n",
       "    function loadScript(lib) {\n",
       "      return new Promise(function(resolve, reject) {\n",
       "        var s = document.createElement('script');\n",
       "        s.src = paths[lib];\n",
       "        s.async = true;\n",
       "        s.onload = () => resolve(paths[lib]);\n",
       "        s.onerror = () => reject(`Error loading script: ${paths[lib]}`);\n",
       "        document.getElementsByTagName(\"head\")[0].appendChild(s);\n",
       "      });\n",
       "    }\n",
       "\n",
       "    function showError(err) {\n",
       "      outputDiv.innerHTML = `<div class=\"error\" style=\"color:red;\">${err}</div>`;\n",
       "      throw err;\n",
       "    }\n",
       "\n",
       "    function displayChart(vegaEmbed) {\n",
       "      vegaEmbed(outputDiv, spec, embedOpt)\n",
       "        .catch(err => showError(`Javascript Error: ${err.message}<br>This usually means there's a typo in your chart specification. See the javascript console for the full traceback.`));\n",
       "    }\n",
       "\n",
       "    if(typeof define === \"function\" && define.amd) {\n",
       "      requirejs.config({paths});\n",
       "      require([\"vega-embed\"], displayChart, err => showError(`Error loading script: ${err.message}`));\n",
       "    } else if (typeof vegaEmbed === \"function\") {\n",
       "      displayChart(vegaEmbed);\n",
       "    } else {\n",
       "      loadScript(\"vega\")\n",
       "        .then(() => loadScript(\"vega-lite\"))\n",
       "        .then(() => loadScript(\"vega-embed\"))\n",
       "        .catch(showError)\n",
       "        .then(() => displayChart(vegaEmbed));\n",
       "    }\n",
       "  })({\"config\": {\"view\": {\"continuousWidth\": 400, \"continuousHeight\": 300}}, \"hconcat\": [{\"data\": {\"name\": \"data-6a2e9ef91908b7425f684e68f1e10485\"}, \"mark\": \"rect\", \"encoding\": {\"color\": {\"condition\": {\"type\": \"nominal\", \"field\": \"race\", \"selection\": \"selector007\"}, \"value\": \"lightgray\"}, \"y\": {\"type\": \"nominal\", \"field\": \"race\"}}, \"selection\": {\"selector007\": {\"type\": \"multi\", \"fields\": [\"race\"]}}}, {\"data\": {\"name\": \"data-5a04793aad910d6977f58635dec8f753\"}, \"mark\": \"line\", \"encoding\": {\"color\": {\"type\": \"nominal\", \"field\": \"race\"}, \"x\": {\"type\": \"nominal\", \"field\": \"date\"}, \"y\": {\"type\": \"quantitative\", \"field\": \"count\"}}, \"title\": \"fatal shootings over time for different races\", \"transform\": [{\"filter\": {\"selection\": \"selector007\"}}]}], \"$schema\": \"https://vega.github.io/schema/vega-lite/v4.8.1.json\", \"datasets\": {\"data-6a2e9ef91908b7425f684e68f1e10485\": [{\"race\": \"White\"}, {\"race\": \"Hispanic\"}, {\"race\": \"Black\"}, {\"race\": \"unknown\"}, {\"race\": \"Asian\"}, {\"race\": \"Native American\"}, {\"race\": \"Other\"}], \"data-5a04793aad910d6977f58635dec8f753\": [{\"race\": \"Asian\", \"date\": \"2015-01\", \"count\": 2}, {\"race\": \"Asian\", \"date\": \"2015-03\", \"count\": 2}, {\"race\": \"Asian\", \"date\": \"2015-04\", \"count\": 2}, {\"race\": \"Asian\", \"date\": \"2015-05\", \"count\": 1}, {\"race\": \"Asian\", \"date\": \"2015-07\", \"count\": 1}, {\"race\": \"Asian\", \"date\": \"2015-09\", \"count\": 2}, {\"race\": \"Asian\", \"date\": \"2015-10\", \"count\": 1}, {\"race\": \"Asian\", \"date\": \"2015-11\", \"count\": 1}, {\"race\": \"Asian\", \"date\": \"2015-12\", \"count\": 2}, {\"race\": \"Asian\", \"date\": \"2016-01\", \"count\": 1}, {\"race\": \"Asian\", \"date\": \"2016-03\", \"count\": 2}, {\"race\": \"Asian\", \"date\": \"2016-04\", \"count\": 3}, {\"race\": \"Asian\", \"date\": \"2016-05\", \"count\": 1}, {\"race\": \"Asian\", \"date\": \"2016-06\", \"count\": 2}, {\"race\": \"Asian\", \"date\": \"2016-07\", \"count\": 1}, {\"race\": \"Asian\", \"date\": \"2016-10\", \"count\": 2}, {\"race\": \"Asian\", \"date\": \"2016-11\", \"count\": 1}, {\"race\": \"Asian\", \"date\": \"2016-12\", \"count\": 2}, {\"race\": \"Asian\", \"date\": \"2017-01\", \"count\": 2}, {\"race\": \"Asian\", \"date\": \"2017-02\", \"count\": 2}, {\"race\": \"Asian\", \"date\": \"2017-03\", \"count\": 1}, {\"race\": \"Asian\", \"date\": \"2017-04\", \"count\": 3}, {\"race\": \"Asian\", \"date\": \"2017-06\", \"count\": 2}, {\"race\": \"Asian\", \"date\": \"2017-07\", \"count\": 2}, {\"race\": \"Asian\", \"date\": \"2017-10\", \"count\": 1}, {\"race\": \"Asian\", \"date\": \"2017-11\", \"count\": 2}, {\"race\": \"Asian\", \"date\": \"2017-12\", \"count\": 1}, {\"race\": \"Asian\", \"date\": \"2018-01\", \"count\": 2}, {\"race\": \"Asian\", \"date\": \"2018-02\", \"count\": 1}, {\"race\": \"Asian\", \"date\": \"2018-03\", \"count\": 3}, {\"race\": \"Asian\", \"date\": \"2018-04\", \"count\": 2}, {\"race\": \"Asian\", \"date\": \"2018-06\", \"count\": 1}, {\"race\": \"Asian\", \"date\": \"2018-07\", \"count\": 4}, {\"race\": \"Asian\", \"date\": \"2018-09\", \"count\": 1}, {\"race\": \"Asian\", \"date\": \"2018-10\", \"count\": 2}, {\"race\": \"Asian\", \"date\": \"2018-11\", \"count\": 4}, {\"race\": \"Asian\", \"date\": \"2018-12\", \"count\": 2}, {\"race\": \"Asian\", \"date\": \"2019-01\", \"count\": 1}, {\"race\": \"Asian\", \"date\": \"2019-02\", \"count\": 4}, {\"race\": \"Asian\", \"date\": \"2019-03\", \"count\": 2}, {\"race\": \"Asian\", \"date\": \"2019-04\", \"count\": 2}, {\"race\": \"Asian\", \"date\": \"2019-05\", \"count\": 2}, {\"race\": \"Asian\", \"date\": \"2019-07\", \"count\": 3}, {\"race\": \"Asian\", \"date\": \"2019-10\", \"count\": 3}, {\"race\": \"Asian\", \"date\": \"2019-11\", \"count\": 1}, {\"race\": \"Asian\", \"date\": \"2019-12\", \"count\": 2}, {\"race\": \"Asian\", \"date\": \"2020-01\", \"count\": 3}, {\"race\": \"Asian\", \"date\": \"2020-02\", \"count\": 1}, {\"race\": \"Asian\", \"date\": \"2020-03\", \"count\": 1}, {\"race\": \"Asian\", \"date\": \"2020-04\", \"count\": 1}, {\"race\": \"Asian\", \"date\": \"2020-05\", \"count\": 4}, {\"race\": \"Asian\", \"date\": \"2020-06\", \"count\": 1}, {\"race\": \"Asian\", \"date\": \"2020-09\", \"count\": 1}, {\"race\": \"Asian\", \"date\": \"2020-10\", \"count\": 1}, {\"race\": \"Asian\", \"date\": \"2020-12\", \"count\": 3}, {\"race\": \"Asian\", \"date\": \"2021-04\", \"count\": 1}, {\"race\": \"Black\", \"date\": \"2015-01\", \"count\": 17}, {\"race\": \"Black\", \"date\": \"2015-02\", \"count\": 20}, {\"race\": \"Black\", \"date\": \"2015-03\", \"count\": 27}, {\"race\": \"Black\", \"date\": \"2015-04\", \"count\": 25}, {\"race\": \"Black\", \"date\": \"2015-05\", \"count\": 20}, {\"race\": \"Black\", \"date\": \"2015-06\", \"count\": 13}, {\"race\": \"Black\", \"date\": \"2015-07\", \"count\": 25}, {\"race\": \"Black\", \"date\": \"2015-08\", \"count\": 28}, {\"race\": \"Black\", \"date\": \"2015-09\", \"count\": 18}, {\"race\": \"Black\", \"date\": \"2015-10\", \"count\": 26}, {\"race\": \"Black\", \"date\": \"2015-11\", \"count\": 19}, {\"race\": \"Black\", \"date\": \"2015-12\", \"count\": 20}, {\"race\": \"Black\", \"date\": \"2016-01\", \"count\": 16}, {\"race\": \"Black\", \"date\": \"2016-02\", \"count\": 24}, {\"race\": \"Black\", \"date\": \"2016-03\", \"count\": 20}, {\"race\": \"Black\", \"date\": \"2016-04\", \"count\": 21}, {\"race\": \"Black\", \"date\": \"2016-05\", \"count\": 21}, {\"race\": \"Black\", \"date\": \"2016-06\", \"count\": 26}, {\"race\": \"Black\", \"date\": \"2016-07\", \"count\": 23}, {\"race\": \"Black\", \"date\": \"2016-08\", \"count\": 14}, {\"race\": \"Black\", \"date\": \"2016-09\", \"count\": 20}, {\"race\": \"Black\", \"date\": \"2016-10\", \"count\": 16}, {\"race\": \"Black\", \"date\": \"2016-11\", \"count\": 19}, {\"race\": \"Black\", \"date\": \"2016-12\", \"count\": 15}, {\"race\": \"Black\", \"date\": \"2017-01\", \"count\": 21}, {\"race\": \"Black\", \"date\": \"2017-02\", \"count\": 31}, {\"race\": \"Black\", \"date\": \"2017-03\", \"count\": 17}, {\"race\": \"Black\", \"date\": \"2017-04\", \"count\": 20}, {\"race\": \"Black\", \"date\": \"2017-05\", \"count\": 16}, {\"race\": \"Black\", \"date\": \"2017-06\", \"count\": 17}, {\"race\": \"Black\", \"date\": \"2017-07\", \"count\": 20}, {\"race\": \"Black\", \"date\": \"2017-08\", \"count\": 23}, {\"race\": \"Black\", \"date\": \"2017-09\", \"count\": 12}, {\"race\": \"Black\", \"date\": \"2017-10\", \"count\": 18}, {\"race\": \"Black\", \"date\": \"2017-11\", \"count\": 19}, {\"race\": \"Black\", \"date\": \"2017-12\", \"count\": 10}, {\"race\": \"Black\", \"date\": \"2018-01\", \"count\": 24}, {\"race\": \"Black\", \"date\": \"2018-02\", \"count\": 25}, {\"race\": \"Black\", \"date\": \"2018-03\", \"count\": 18}, {\"race\": \"Black\", \"date\": \"2018-04\", \"count\": 28}, {\"race\": \"Black\", \"date\": \"2018-05\", \"count\": 10}, {\"race\": \"Black\", \"date\": \"2018-06\", \"count\": 20}, {\"race\": \"Black\", \"date\": \"2018-07\", \"count\": 13}, {\"race\": \"Black\", \"date\": \"2018-08\", \"count\": 22}, {\"race\": \"Black\", \"date\": \"2018-09\", \"count\": 15}, {\"race\": \"Black\", \"date\": \"2018-10\", \"count\": 20}, {\"race\": \"Black\", \"date\": \"2018-11\", \"count\": 17}, {\"race\": \"Black\", \"date\": \"2018-12\", \"count\": 20}, {\"race\": \"Black\", \"date\": \"2019-01\", \"count\": 23}, {\"race\": \"Black\", \"date\": \"2019-02\", \"count\": 21}, {\"race\": \"Black\", \"date\": \"2019-03\", \"count\": 21}, {\"race\": \"Black\", \"date\": \"2019-04\", \"count\": 14}, {\"race\": \"Black\", \"date\": \"2019-05\", \"count\": 16}, {\"race\": \"Black\", \"date\": \"2019-06\", \"count\": 25}, {\"race\": \"Black\", \"date\": \"2019-07\", \"count\": 19}, {\"race\": \"Black\", \"date\": \"2019-08\", \"count\": 24}, {\"race\": \"Black\", \"date\": \"2019-09\", \"count\": 18}, {\"race\": \"Black\", \"date\": \"2019-10\", \"count\": 21}, {\"race\": \"Black\", \"date\": \"2019-11\", \"count\": 16}, {\"race\": \"Black\", \"date\": \"2019-12\", \"count\": 34}, {\"race\": \"Black\", \"date\": \"2020-01\", \"count\": 28}, {\"race\": \"Black\", \"date\": \"2020-02\", \"count\": 16}, {\"race\": \"Black\", \"date\": \"2020-03\", \"count\": 15}, {\"race\": \"Black\", \"date\": \"2020-04\", \"count\": 20}, {\"race\": \"Black\", \"date\": \"2020-05\", \"count\": 30}, {\"race\": \"Black\", \"date\": \"2020-06\", \"count\": 17}, {\"race\": \"Black\", \"date\": \"2020-07\", \"count\": 18}, {\"race\": \"Black\", \"date\": \"2020-08\", \"count\": 15}, {\"race\": \"Black\", \"date\": \"2020-09\", \"count\": 16}, {\"race\": \"Black\", \"date\": \"2020-10\", \"count\": 20}, {\"race\": \"Black\", \"date\": \"2020-11\", \"count\": 25}, {\"race\": \"Black\", \"date\": \"2020-12\", \"count\": 23}, {\"race\": \"Black\", \"date\": \"2021-01\", \"count\": 18}, {\"race\": \"Black\", \"date\": \"2021-02\", \"count\": 17}, {\"race\": \"Black\", \"date\": \"2021-03\", \"count\": 12}, {\"race\": \"Black\", \"date\": \"2021-04\", \"count\": 5}, {\"race\": \"Hispanic\", \"date\": \"2015-01\", \"count\": 16}, {\"race\": \"Hispanic\", \"date\": \"2015-02\", \"count\": 14}, {\"race\": \"Hispanic\", \"date\": \"2015-03\", \"count\": 13}, {\"race\": \"Hispanic\", \"date\": \"2015-04\", \"count\": 14}, {\"race\": \"Hispanic\", \"date\": \"2015-05\", \"count\": 5}, {\"race\": \"Hispanic\", \"date\": \"2015-06\", \"count\": 17}, {\"race\": \"Hispanic\", \"date\": \"2015-07\", \"count\": 14}, {\"race\": \"Hispanic\", \"date\": \"2015-08\", \"count\": 16}, {\"race\": \"Hispanic\", \"date\": \"2015-09\", \"count\": 16}, {\"race\": \"Hispanic\", \"date\": \"2015-10\", \"count\": 16}, {\"race\": \"Hispanic\", \"date\": \"2015-11\", \"count\": 14}, {\"race\": \"Hispanic\", \"date\": \"2015-12\", \"count\": 17}, {\"race\": \"Hispanic\", \"date\": \"2016-01\", \"count\": 11}, {\"race\": \"Hispanic\", \"date\": \"2016-02\", \"count\": 18}, {\"race\": \"Hispanic\", \"date\": \"2016-03\", \"count\": 19}, {\"race\": \"Hispanic\", \"date\": \"2016-04\", \"count\": 10}, {\"race\": \"Hispanic\", \"date\": \"2016-05\", \"count\": 9}, {\"race\": \"Hispanic\", \"date\": \"2016-06\", \"count\": 16}, {\"race\": \"Hispanic\", \"date\": \"2016-07\", \"count\": 14}, {\"race\": \"Hispanic\", \"date\": \"2016-08\", \"count\": 16}, {\"race\": \"Hispanic\", \"date\": \"2016-09\", \"count\": 13}, {\"race\": \"Hispanic\", \"date\": \"2016-10\", \"count\": 11}, {\"race\": \"Hispanic\", \"date\": \"2016-11\", \"count\": 17}, {\"race\": \"Hispanic\", \"date\": \"2016-12\", \"count\": 7}, {\"race\": \"Hispanic\", \"date\": \"2017-01\", \"count\": 21}, {\"race\": \"Hispanic\", \"date\": \"2017-02\", \"count\": 18}, {\"race\": \"Hispanic\", \"date\": \"2017-03\", \"count\": 13}, {\"race\": \"Hispanic\", \"date\": \"2017-04\", \"count\": 13}, {\"race\": \"Hispanic\", \"date\": \"2017-05\", \"count\": 14}, {\"race\": \"Hispanic\", \"date\": \"2017-06\", \"count\": 21}, {\"race\": \"Hispanic\", \"date\": \"2017-07\", \"count\": 19}, {\"race\": \"Hispanic\", \"date\": \"2017-08\", \"count\": 13}, {\"race\": \"Hispanic\", \"date\": \"2017-09\", \"count\": 12}, {\"race\": \"Hispanic\", \"date\": \"2017-10\", \"count\": 20}, {\"race\": \"Hispanic\", \"date\": \"2017-11\", \"count\": 11}, {\"race\": \"Hispanic\", \"date\": \"2017-12\", \"count\": 6}, {\"race\": \"Hispanic\", \"date\": \"2018-01\", \"count\": 21}, {\"race\": \"Hispanic\", \"date\": \"2018-02\", \"count\": 10}, {\"race\": \"Hispanic\", \"date\": \"2018-03\", \"count\": 22}, {\"race\": \"Hispanic\", \"date\": \"2018-04\", \"count\": 11}, {\"race\": \"Hispanic\", \"date\": \"2018-05\", \"count\": 13}, {\"race\": \"Hispanic\", \"date\": \"2018-06\", \"count\": 12}, {\"race\": \"Hispanic\", \"date\": \"2018-07\", \"count\": 27}, {\"race\": \"Hispanic\", \"date\": \"2018-08\", \"count\": 12}, {\"race\": \"Hispanic\", \"date\": \"2018-09\", \"count\": 9}, {\"race\": \"Hispanic\", \"date\": \"2018-10\", \"count\": 7}, {\"race\": \"Hispanic\", \"date\": \"2018-11\", \"count\": 12}, {\"race\": \"Hispanic\", \"date\": \"2018-12\", \"count\": 11}, {\"race\": \"Hispanic\", \"date\": \"2019-01\", \"count\": 16}, {\"race\": \"Hispanic\", \"date\": \"2019-02\", \"count\": 8}, {\"race\": \"Hispanic\", \"date\": \"2019-03\", \"count\": 19}, {\"race\": \"Hispanic\", \"date\": \"2019-04\", \"count\": 14}, {\"race\": \"Hispanic\", \"date\": \"2019-05\", \"count\": 20}, {\"race\": \"Hispanic\", \"date\": \"2019-06\", \"count\": 18}, {\"race\": \"Hispanic\", \"date\": \"2019-07\", \"count\": 17}, {\"race\": \"Hispanic\", \"date\": \"2019-08\", \"count\": 15}, {\"race\": \"Hispanic\", \"date\": \"2019-09\", \"count\": 7}, {\"race\": \"Hispanic\", \"date\": \"2019-10\", \"count\": 9}, {\"race\": \"Hispanic\", \"date\": \"2019-11\", \"count\": 12}, {\"race\": \"Hispanic\", \"date\": \"2019-12\", \"count\": 12}, {\"race\": \"Hispanic\", \"date\": \"2020-01\", \"count\": 12}, {\"race\": \"Hispanic\", \"date\": \"2020-02\", \"count\": 13}, {\"race\": \"Hispanic\", \"date\": \"2020-03\", \"count\": 14}, {\"race\": \"Hispanic\", \"date\": \"2020-04\", \"count\": 12}, {\"race\": \"Hispanic\", \"date\": \"2020-05\", \"count\": 16}, {\"race\": \"Hispanic\", \"date\": \"2020-06\", \"count\": 13}, {\"race\": \"Hispanic\", \"date\": \"2020-07\", \"count\": 11}, {\"race\": \"Hispanic\", \"date\": \"2020-08\", \"count\": 20}, {\"race\": \"Hispanic\", \"date\": \"2020-09\", \"count\": 9}, {\"race\": \"Hispanic\", \"date\": \"2020-10\", \"count\": 21}, {\"race\": \"Hispanic\", \"date\": \"2020-11\", \"count\": 14}, {\"race\": \"Hispanic\", \"date\": \"2020-12\", \"count\": 15}, {\"race\": \"Hispanic\", \"date\": \"2021-01\", \"count\": 14}, {\"race\": \"Hispanic\", \"date\": \"2021-02\", \"count\": 9}, {\"race\": \"Hispanic\", \"date\": \"2021-03\", \"count\": 8}, {\"race\": \"Hispanic\", \"date\": \"2021-04\", \"count\": 2}, {\"race\": \"Native American\", \"date\": \"2015-01\", \"count\": 1}, {\"race\": \"Native American\", \"date\": \"2015-03\", \"count\": 1}, {\"race\": \"Native American\", \"date\": \"2015-04\", \"count\": 1}, {\"race\": \"Native American\", \"date\": \"2015-06\", \"count\": 1}, {\"race\": \"Native American\", \"date\": \"2015-07\", \"count\": 2}, {\"race\": \"Native American\", \"date\": \"2015-09\", \"count\": 3}, {\"race\": \"Native American\", \"date\": \"2016-01\", \"count\": 2}, {\"race\": \"Native American\", \"date\": \"2016-02\", \"count\": 4}, {\"race\": \"Native American\", \"date\": \"2016-03\", \"count\": 1}, {\"race\": \"Native American\", \"date\": \"2016-05\", \"count\": 3}, {\"race\": \"Native American\", \"date\": \"2016-06\", \"count\": 1}, {\"race\": \"Native American\", \"date\": \"2016-07\", \"count\": 1}, {\"race\": \"Native American\", \"date\": \"2016-09\", \"count\": 1}, {\"race\": \"Native American\", \"date\": \"2016-10\", \"count\": 2}, {\"race\": \"Native American\", \"date\": \"2016-12\", \"count\": 1}, {\"race\": \"Native American\", \"date\": \"2017-01\", \"count\": 2}, {\"race\": \"Native American\", \"date\": \"2017-02\", \"count\": 1}, {\"race\": \"Native American\", \"date\": \"2017-03\", \"count\": 1}, {\"race\": \"Native American\", \"date\": \"2017-04\", \"count\": 1}, {\"race\": \"Native American\", \"date\": \"2017-06\", \"count\": 1}, {\"race\": \"Native American\", \"date\": \"2017-07\", \"count\": 2}, {\"race\": \"Native American\", \"date\": \"2017-08\", \"count\": 1}, {\"race\": \"Native American\", \"date\": \"2017-09\", \"count\": 2}, {\"race\": \"Native American\", \"date\": \"2017-10\", \"count\": 5}, {\"race\": \"Native American\", \"date\": \"2017-11\", \"count\": 3}, {\"race\": \"Native American\", \"date\": \"2017-12\", \"count\": 3}, {\"race\": \"Native American\", \"date\": \"2018-01\", \"count\": 1}, {\"race\": \"Native American\", \"date\": \"2018-02\", \"count\": 1}, {\"race\": \"Native American\", \"date\": \"2018-03\", \"count\": 4}, {\"race\": \"Native American\", \"date\": \"2018-04\", \"count\": 2}, {\"race\": \"Native American\", \"date\": \"2018-05\", \"count\": 2}, {\"race\": \"Native American\", \"date\": \"2018-07\", \"count\": 1}, {\"race\": \"Native American\", \"date\": \"2018-08\", \"count\": 1}, {\"race\": \"Native American\", \"date\": \"2018-10\", \"count\": 2}, {\"race\": \"Native American\", \"date\": \"2018-11\", \"count\": 1}, {\"race\": \"Native American\", \"date\": \"2019-01\", \"count\": 2}, {\"race\": \"Native American\", \"date\": \"2019-03\", \"count\": 3}, {\"race\": \"Native American\", \"date\": \"2019-04\", \"count\": 3}, {\"race\": \"Native American\", \"date\": \"2019-05\", \"count\": 1}, {\"race\": \"Native American\", \"date\": \"2019-06\", \"count\": 1}, {\"race\": \"Native American\", \"date\": \"2019-07\", \"count\": 1}, {\"race\": \"Native American\", \"date\": \"2019-09\", \"count\": 1}, {\"race\": \"Native American\", \"date\": \"2019-12\", \"count\": 1}, {\"race\": \"Native American\", \"date\": \"2020-02\", \"count\": 3}, {\"race\": \"Native American\", \"date\": \"2020-08\", \"count\": 1}, {\"race\": \"Native American\", \"date\": \"2020-09\", \"count\": 1}, {\"race\": \"Native American\", \"date\": \"2020-10\", \"count\": 2}, {\"race\": \"Native American\", \"date\": \"2020-11\", \"count\": 1}, {\"race\": \"Native American\", \"date\": \"2020-12\", \"count\": 1}, {\"race\": \"Native American\", \"date\": \"2021-02\", \"count\": 1}, {\"race\": \"Native American\", \"date\": \"2021-03\", \"count\": 2}, {\"race\": \"Other\", \"date\": \"2015-01\", \"count\": 1}, {\"race\": \"Other\", \"date\": \"2015-04\", \"count\": 1}, {\"race\": \"Other\", \"date\": \"2015-05\", \"count\": 3}, {\"race\": \"Other\", \"date\": \"2015-07\", \"count\": 1}, {\"race\": \"Other\", \"date\": \"2015-09\", \"count\": 2}, {\"race\": \"Other\", \"date\": \"2015-10\", \"count\": 2}, {\"race\": \"Other\", \"date\": \"2015-11\", \"count\": 1}, {\"race\": \"Other\", \"date\": \"2015-12\", \"count\": 3}, {\"race\": \"Other\", \"date\": \"2016-02\", \"count\": 3}, {\"race\": \"Other\", \"date\": \"2016-05\", \"count\": 1}, {\"race\": \"Other\", \"date\": \"2016-06\", \"count\": 3}, {\"race\": \"Other\", \"date\": \"2016-07\", \"count\": 1}, {\"race\": \"Other\", \"date\": \"2016-09\", \"count\": 1}, {\"race\": \"Other\", \"date\": \"2016-11\", \"count\": 1}, {\"race\": \"Other\", \"date\": \"2016-12\", \"count\": 1}, {\"race\": \"Other\", \"date\": \"2017-01\", \"count\": 2}, {\"race\": \"Other\", \"date\": \"2017-06\", \"count\": 1}, {\"race\": \"Other\", \"date\": \"2017-07\", \"count\": 1}, {\"race\": \"Other\", \"date\": \"2017-09\", \"count\": 2}, {\"race\": \"Other\", \"date\": \"2018-06\", \"count\": 1}, {\"race\": \"Other\", \"date\": \"2018-07\", \"count\": 1}, {\"race\": \"Other\", \"date\": \"2018-10\", \"count\": 1}, {\"race\": \"Other\", \"date\": \"2018-12\", \"count\": 1}, {\"race\": \"Other\", \"date\": \"2019-01\", \"count\": 1}, {\"race\": \"Other\", \"date\": \"2019-02\", \"count\": 1}, {\"race\": \"Other\", \"date\": \"2019-05\", \"count\": 2}, {\"race\": \"Other\", \"date\": \"2019-07\", \"count\": 1}, {\"race\": \"Other\", \"date\": \"2019-11\", \"count\": 1}, {\"race\": \"Other\", \"date\": \"2019-12\", \"count\": 3}, {\"race\": \"Other\", \"date\": \"2020-01\", \"count\": 1}, {\"race\": \"Other\", \"date\": \"2020-03\", \"count\": 1}, {\"race\": \"Other\", \"date\": \"2020-05\", \"count\": 1}, {\"race\": \"White\", \"date\": \"2015-01\", \"count\": 38}, {\"race\": \"White\", \"date\": \"2015-02\", \"count\": 43}, {\"race\": \"White\", \"date\": \"2015-03\", \"count\": 48}, {\"race\": \"White\", \"date\": \"2015-04\", \"count\": 40}, {\"race\": \"White\", \"date\": \"2015-05\", \"count\": 40}, {\"race\": \"White\", \"date\": \"2015-06\", \"count\": 32}, {\"race\": \"White\", \"date\": \"2015-07\", \"count\": 59}, {\"race\": \"White\", \"date\": \"2015-08\", \"count\": 48}, {\"race\": \"White\", \"date\": \"2015-09\", \"count\": 39}, {\"race\": \"White\", \"date\": \"2015-10\", \"count\": 36}, {\"race\": \"White\", \"date\": \"2015-11\", \"count\": 41}, {\"race\": \"White\", \"date\": \"2015-12\", \"count\": 39}, {\"race\": \"White\", \"date\": \"2016-01\", \"count\": 50}, {\"race\": \"White\", \"date\": \"2016-02\", \"count\": 35}, {\"race\": \"White\", \"date\": \"2016-03\", \"count\": 48}, {\"race\": \"White\", \"date\": \"2016-04\", \"count\": 39}, {\"race\": \"White\", \"date\": \"2016-05\", \"count\": 35}, {\"race\": \"White\", \"date\": \"2016-06\", \"count\": 39}, {\"race\": \"White\", \"date\": \"2016-07\", \"count\": 31}, {\"race\": \"White\", \"date\": \"2016-08\", \"count\": 47}, {\"race\": \"White\", \"date\": \"2016-09\", \"count\": 38}, {\"race\": \"White\", \"date\": \"2016-10\", \"count\": 40}, {\"race\": \"White\", \"date\": \"2016-11\", \"count\": 31}, {\"race\": \"White\", \"date\": \"2016-12\", \"count\": 34}, {\"race\": \"White\", \"date\": \"2017-01\", \"count\": 43}, {\"race\": \"White\", \"date\": \"2017-02\", \"count\": 45}, {\"race\": \"White\", \"date\": \"2017-03\", \"count\": 42}, {\"race\": \"White\", \"date\": \"2017-04\", \"count\": 28}, {\"race\": \"White\", \"date\": \"2017-05\", \"count\": 38}, {\"race\": \"White\", \"date\": \"2017-06\", \"count\": 38}, {\"race\": \"White\", \"date\": \"2017-07\", \"count\": 47}, {\"race\": \"White\", \"date\": \"2017-08\", \"count\": 42}, {\"race\": \"White\", \"date\": \"2017-09\", \"count\": 38}, {\"race\": \"White\", \"date\": \"2017-10\", \"count\": 37}, {\"race\": \"White\", \"date\": \"2017-11\", \"count\": 41}, {\"race\": \"White\", \"date\": \"2017-12\", \"count\": 22}, {\"race\": \"White\", \"date\": \"2018-01\", \"count\": 49}, {\"race\": \"White\", \"date\": \"2018-02\", \"count\": 38}, {\"race\": \"White\", \"date\": \"2018-03\", \"count\": 53}, {\"race\": \"White\", \"date\": \"2018-04\", \"count\": 47}, {\"race\": \"White\", \"date\": \"2018-05\", \"count\": 46}, {\"race\": \"White\", \"date\": \"2018-06\", \"count\": 37}, {\"race\": \"White\", \"date\": \"2018-07\", \"count\": 37}, {\"race\": \"White\", \"date\": \"2018-08\", \"count\": 34}, {\"race\": \"White\", \"date\": \"2018-09\", \"count\": 26}, {\"race\": \"White\", \"date\": \"2018-10\", \"count\": 33}, {\"race\": \"White\", \"date\": \"2018-11\", \"count\": 30}, {\"race\": \"White\", \"date\": \"2018-12\", \"count\": 32}, {\"race\": \"White\", \"date\": \"2019-01\", \"count\": 39}, {\"race\": \"White\", \"date\": \"2019-02\", \"count\": 35}, {\"race\": \"White\", \"date\": \"2019-03\", \"count\": 32}, {\"race\": \"White\", \"date\": \"2019-04\", \"count\": 33}, {\"race\": \"White\", \"date\": \"2019-05\", \"count\": 23}, {\"race\": \"White\", \"date\": \"2019-06\", \"count\": 35}, {\"race\": \"White\", \"date\": \"2019-07\", \"count\": 30}, {\"race\": \"White\", \"date\": \"2019-08\", \"count\": 28}, {\"race\": \"White\", \"date\": \"2019-09\", \"count\": 35}, {\"race\": \"White\", \"date\": \"2019-10\", \"count\": 42}, {\"race\": \"White\", \"date\": \"2019-11\", \"count\": 40}, {\"race\": \"White\", \"date\": \"2019-12\", \"count\": 52}, {\"race\": \"White\", \"date\": \"2020-01\", \"count\": 43}, {\"race\": \"White\", \"date\": \"2020-02\", \"count\": 34}, {\"race\": \"White\", \"date\": \"2020-03\", \"count\": 45}, {\"race\": \"White\", \"date\": \"2020-04\", \"count\": 37}, {\"race\": \"White\", \"date\": \"2020-05\", \"count\": 46}, {\"race\": \"White\", \"date\": \"2020-06\", \"count\": 45}, {\"race\": \"White\", \"date\": \"2020-07\", \"count\": 29}, {\"race\": \"White\", \"date\": \"2020-08\", \"count\": 44}, {\"race\": \"White\", \"date\": \"2020-09\", \"count\": 29}, {\"race\": \"White\", \"date\": \"2020-10\", \"count\": 38}, {\"race\": \"White\", \"date\": \"2020-11\", \"count\": 36}, {\"race\": \"White\", \"date\": \"2020-12\", \"count\": 31}, {\"race\": \"White\", \"date\": \"2021-01\", \"count\": 32}, {\"race\": \"White\", \"date\": \"2021-02\", \"count\": 43}, {\"race\": \"White\", \"date\": \"2021-03\", \"count\": 28}, {\"race\": \"White\", \"date\": \"2021-04\", \"count\": 6}, {\"race\": \"unknown\", \"date\": \"2015-01\", \"count\": 1}, {\"race\": \"unknown\", \"date\": \"2015-03\", \"count\": 1}, {\"race\": \"unknown\", \"date\": \"2015-04\", \"count\": 1}, {\"race\": \"unknown\", \"date\": \"2015-05\", \"count\": 2}, {\"race\": \"unknown\", \"date\": \"2015-06\", \"count\": 2}, {\"race\": \"unknown\", \"date\": \"2015-07\", \"count\": 2}, {\"race\": \"unknown\", \"date\": \"2015-08\", \"count\": 2}, {\"race\": \"unknown\", \"date\": \"2015-09\", \"count\": 2}, {\"race\": \"unknown\", \"date\": \"2015-10\", \"count\": 3}, {\"race\": \"unknown\", \"date\": \"2015-11\", \"count\": 1}, {\"race\": \"unknown\", \"date\": \"2015-12\", \"count\": 6}, {\"race\": \"unknown\", \"date\": \"2016-01\", \"count\": 1}, {\"race\": \"unknown\", \"date\": \"2016-02\", \"count\": 1}, {\"race\": \"unknown\", \"date\": \"2016-03\", \"count\": 2}, {\"race\": \"unknown\", \"date\": \"2016-05\", \"count\": 4}, {\"race\": \"unknown\", \"date\": \"2016-06\", \"count\": 5}, {\"race\": \"unknown\", \"date\": \"2016-07\", \"count\": 1}, {\"race\": \"unknown\", \"date\": \"2016-08\", \"count\": 5}, {\"race\": \"unknown\", \"date\": \"2016-09\", \"count\": 5}, {\"race\": \"unknown\", \"date\": \"2016-10\", \"count\": 6}, {\"race\": \"unknown\", \"date\": \"2016-11\", \"count\": 8}, {\"race\": \"unknown\", \"date\": \"2016-12\", \"count\": 17}, {\"race\": \"unknown\", \"date\": \"2017-01\", \"count\": 1}, {\"race\": \"unknown\", \"date\": \"2017-02\", \"count\": 3}, {\"race\": \"unknown\", \"date\": \"2017-03\", \"count\": 2}, {\"race\": \"unknown\", \"date\": \"2017-04\", \"count\": 2}, {\"race\": \"unknown\", \"date\": \"2017-05\", \"count\": 6}, {\"race\": \"unknown\", \"date\": \"2017-06\", \"count\": 4}, {\"race\": \"unknown\", \"date\": \"2017-07\", \"count\": 3}, {\"race\": \"unknown\", \"date\": \"2017-08\", \"count\": 3}, {\"race\": \"unknown\", \"date\": \"2017-09\", \"count\": 4}, {\"race\": \"unknown\", \"date\": \"2017-10\", \"count\": 4}, {\"race\": \"unknown\", \"date\": \"2017-11\", \"count\": 8}, {\"race\": \"unknown\", \"date\": \"2017-12\", \"count\": 36}, {\"race\": \"unknown\", \"date\": \"2018-01\", \"count\": 2}, {\"race\": \"unknown\", \"date\": \"2018-02\", \"count\": 5}, {\"race\": \"unknown\", \"date\": \"2018-03\", \"count\": 9}, {\"race\": \"unknown\", \"date\": \"2018-04\", \"count\": 8}, {\"race\": \"unknown\", \"date\": \"2018-05\", \"count\": 12}, {\"race\": \"unknown\", \"date\": \"2018-06\", \"count\": 10}, {\"race\": \"unknown\", \"date\": \"2018-07\", \"count\": 6}, {\"race\": \"unknown\", \"date\": \"2018-08\", \"count\": 5}, {\"race\": \"unknown\", \"date\": \"2018-09\", \"count\": 4}, {\"race\": \"unknown\", \"date\": \"2018-10\", \"count\": 10}, {\"race\": \"unknown\", \"date\": \"2018-11\", \"count\": 12}, {\"race\": \"unknown\", \"date\": \"2018-12\", \"count\": 5}, {\"race\": \"unknown\", \"date\": \"2019-01\", \"count\": 11}, {\"race\": \"unknown\", \"date\": \"2019-02\", \"count\": 3}, {\"race\": \"unknown\", \"date\": \"2019-03\", \"count\": 11}, {\"race\": \"unknown\", \"date\": \"2019-04\", \"count\": 5}, {\"race\": \"unknown\", \"date\": \"2019-05\", \"count\": 10}, {\"race\": \"unknown\", \"date\": \"2019-06\", \"count\": 7}, {\"race\": \"unknown\", \"date\": \"2019-07\", \"count\": 9}, {\"race\": \"unknown\", \"date\": \"2019-08\", \"count\": 19}, {\"race\": \"unknown\", \"date\": \"2019-09\", \"count\": 17}, {\"race\": \"unknown\", \"date\": \"2019-10\", \"count\": 14}, {\"race\": \"unknown\", \"date\": \"2019-11\", \"count\": 6}, {\"race\": \"unknown\", \"date\": \"2019-12\", \"count\": 2}, {\"race\": \"unknown\", \"date\": \"2020-01\", \"count\": 1}, {\"race\": \"unknown\", \"date\": \"2020-02\", \"count\": 11}, {\"race\": \"unknown\", \"date\": \"2020-03\", \"count\": 17}, {\"race\": \"unknown\", \"date\": \"2020-04\", \"count\": 9}, {\"race\": \"unknown\", \"date\": \"2020-05\", \"count\": 14}, {\"race\": \"unknown\", \"date\": \"2020-06\", \"count\": 1}, {\"race\": \"unknown\", \"date\": \"2020-07\", \"count\": 10}, {\"race\": \"unknown\", \"date\": \"2020-08\", \"count\": 7}, {\"race\": \"unknown\", \"date\": \"2020-09\", \"count\": 3}, {\"race\": \"unknown\", \"date\": \"2020-10\", \"count\": 19}, {\"race\": \"unknown\", \"date\": \"2020-11\", \"count\": 15}, {\"race\": \"unknown\", \"date\": \"2020-12\", \"count\": 16}, {\"race\": \"unknown\", \"date\": \"2021-01\", \"count\": 14}, {\"race\": \"unknown\", \"date\": \"2021-02\", \"count\": 16}, {\"race\": \"unknown\", \"date\": \"2021-03\", \"count\": 17}, {\"race\": \"unknown\", \"date\": \"2021-04\", \"count\": 17}]}}, {\"mode\": \"vega-lite\"});\n",
       "</script>"
      ],
      "text/plain": [
       "alt.HConcatChart(...)"
      ]
     },
     "execution_count": 34,
     "metadata": {},
     "output_type": "execute_result"
    }
   ],
   "source": [
    "races_1=pd.DataFrame({\"race\":list(list_races)})\n",
    "\n",
    "selection = alt.selection_multi(fields=['race'])\n",
    "color = alt.condition(selection, alt.Color('race:N'), alt.value('lightgray'))\n",
    "\n",
    "selector1 = alt.Chart(races_1).mark_rect().encode(y='race', color=color).add_selection(selection)\n",
    "selector2 = alt.Chart(races,title=\"fatal shootings over time for different races\").mark_line().encode(x='date', y=\"count\", color='race').transform_filter(selection)\n",
    "\n",
    "selector1 | selector2"
   ]
  },
  {
   "cell_type": "markdown",
   "metadata": {},
   "source": [
    "## Bar plots (I): Exploring arm status among races\n",
    "\n",
    "Using bar plots to show minor difference on some statistics between different populations.\n"
   ]
  },
  {
   "cell_type": "code",
   "execution_count": 35,
   "metadata": {},
   "outputs": [
    {
     "data": {
      "image/png": "[encoded data removed]",
      "text/plain": [
       "<Figure size 432x288 with 1 Axes>"
      ]
     },
     "metadata": {
      "needs_background": "light"
     },
     "output_type": "display_data"
    }
   ],
   "source": [
    "new = data.pivot_table(\n",
    " values=\"id\",\n",
    " index=\"armed\",\n",
    " columns=\"race\",\n",
    " aggfunc=\"count\"\n",
    " )\n",
    "new=(new/new.sum()).T\n",
    "ax = new.plot(kind='bar', stacked=True, rot=0,\n",
    " title='armed status over different races')\n",
    "\n",
    "ax.legend((\"lethal force\",\"unarmed\"), loc='center left', bbox_to_anchor=(1.0, 0.5))\n",
    "ax.set_ylabel(\"unarmed ratio\");"
   ]
  },
  {
   "cell_type": "code",
   "execution_count": 38,
   "metadata": {},
   "outputs": [],
   "source": [
    "point1=(data[data[\"race\"]==\"Black\"][\"armed\"]==\"unarmed\").mean()\n",
    "point2=(data[data[\"race\"]==\"White\"][\"armed\"]==\"unarmed\").mean()\n",
    "point3=(data[data[\"race\"]==\"Hispanic\"][\"armed\"]==\"unarmed\").mean()\n",
    "point4=(data[data[\"race\"]==\"Asian\"][\"armed\"]==\"unarmed\").mean()\n",
    "df=pd.DataFrame({\"race\":[\"Black\",\"White\",\"Hispanic\",\"Asian\"],\"percentage\":[point1,point2,point3,point4]})"
   ]
  },
  {
   "cell_type": "code",
   "execution_count": 39,
   "metadata": {},
   "outputs": [
    {
     "data": {
      "text/html": [
       "\n",
       "<div id=\"altair-viz-e8db8f0c95994738843f96b48fd451e8\"></div>\n",
       "<script type=\"text/javascript\">\n",
       "  (function(spec, embedOpt){\n",
       "    let outputDiv = document.currentScript.previousElementSibling;\n",
       "    if (outputDiv.id !== \"altair-viz-e8db8f0c95994738843f96b48fd451e8\") {\n",
       "      outputDiv = document.getElementById(\"altair-viz-e8db8f0c95994738843f96b48fd451e8\");\n",
       "    }\n",
       "    const paths = {\n",
       "      \"vega\": \"https://cdn.jsdelivr.net/npm//vega@5?noext\",\n",
       "      \"vega-lib\": \"https://cdn.jsdelivr.net/npm//vega-lib?noext\",\n",
       "      \"vega-lite\": \"https://cdn.jsdelivr.net/npm//vega-lite@4.8.1?noext\",\n",
       "      \"vega-embed\": \"https://cdn.jsdelivr.net/npm//vega-embed@6?noext\",\n",
       "    };\n",
       "\n",
       "    function loadScript(lib) {\n",
       "      return new Promise(function(resolve, reject) {\n",
       "        var s = document.createElement('script');\n",
       "        s.src = paths[lib];\n",
       "        s.async = true;\n",
       "        s.onload = () => resolve(paths[lib]);\n",
       "        s.onerror = () => reject(`Error loading script: ${paths[lib]}`);\n",
       "        document.getElementsByTagName(\"head\")[0].appendChild(s);\n",
       "      });\n",
       "    }\n",
       "\n",
       "    function showError(err) {\n",
       "      outputDiv.innerHTML = `<div class=\"error\" style=\"color:red;\">${err}</div>`;\n",
       "      throw err;\n",
       "    }\n",
       "\n",
       "    function displayChart(vegaEmbed) {\n",
       "      vegaEmbed(outputDiv, spec, embedOpt)\n",
       "        .catch(err => showError(`Javascript Error: ${err.message}<br>This usually means there's a typo in your chart specification. See the javascript console for the full traceback.`));\n",
       "    }\n",
       "\n",
       "    if(typeof define === \"function\" && define.amd) {\n",
       "      requirejs.config({paths});\n",
       "      require([\"vega-embed\"], displayChart, err => showError(`Error loading script: ${err.message}`));\n",
       "    } else if (typeof vegaEmbed === \"function\") {\n",
       "      displayChart(vegaEmbed);\n",
       "    } else {\n",
       "      loadScript(\"vega\")\n",
       "        .then(() => loadScript(\"vega-lite\"))\n",
       "        .then(() => loadScript(\"vega-embed\"))\n",
       "        .catch(showError)\n",
       "        .then(() => displayChart(vegaEmbed));\n",
       "    }\n",
       "  })({\"config\": {\"view\": {\"continuousWidth\": 400, \"continuousHeight\": 300}}, \"data\": {\"name\": \"data-5b59f7a2581783473d20c40ea8f21154\"}, \"mark\": \"bar\", \"encoding\": {\"x\": {\"type\": \"nominal\", \"field\": \"race\"}, \"y\": {\"type\": \"quantitative\", \"field\": \"percentage\"}}, \"$schema\": \"https://vega.github.io/schema/vega-lite/v4.8.1.json\", \"datasets\": {\"data-5b59f7a2581783473d20c40ea8f21154\": [{\"race\": \"Black\", \"percentage\": 0.09024064171122995}, {\"race\": \"White\", \"percentage\": 0.05827263267429761}, {\"race\": \"Hispanic\", \"percentage\": 0.07040913415794481}, {\"race\": \"Asian\", \"percentage\": 0.07692307692307693}]}}, {\"mode\": \"vega-lite\"});\n",
       "</script>"
      ],
      "text/plain": [
       "alt.Chart(...)"
      ]
     },
     "execution_count": 39,
     "metadata": {},
     "output_type": "execute_result"
    }
   ],
   "source": [
    "alt.Chart(df).mark_bar().encode(\n",
    "    x=\"race\",\n",
    "    y='percentage'\n",
    ")"
   ]
  },
  {
   "cell_type": "markdown",
   "metadata": {},
   "source": [
    "## Bar plot (II): Explore proportions of mental illness among races "
   ]
  },
  {
   "cell_type": "code",
   "execution_count": 40,
   "metadata": {},
   "outputs": [
    {
     "data": {
      "image/png": "[encoded data removed]",
      "text/plain": [
       "<Figure size 432x288 with 1 Axes>"
      ]
     },
     "metadata": {
      "needs_background": "light"
     },
     "output_type": "display_data"
    }
   ],
   "source": [
    "new = data.pivot_table(\n",
    " values=\"id\",\n",
    " index=\"signs_of_mental_illness\",\n",
    " columns=\"race\",\n",
    " aggfunc=\"count\"\n",
    " )\n",
    "new=(new/new.sum()).T\n",
    "\n",
    "ax = new.plot(kind='bar', stacked=True, rot=0,\n",
    " title='mental status over different races')\n",
    "\n",
    "ax.legend((\"Normal\",\"Unnormal\"), loc='center left', bbox_to_anchor=(1.0, 0.5))\n",
    "ax.set_ylabel(\"unarmed ratio\");"
   ]
  },
  {
   "cell_type": "markdown",
   "metadata": {},
   "source": [
    "## Bar plot (III): Explore the chance of turning on the body camera when shhoting happens among different races"
   ]
  },
  {
   "cell_type": "code",
   "execution_count": 42,
   "metadata": {},
   "outputs": [
    {
     "data": {
      "image/png": "[encoded data removed]",
      "text/plain": [
       "<Figure size 432x288 with 1 Axes>"
      ]
     },
     "metadata": {
      "needs_background": "light"
     },
     "output_type": "display_data"
    }
   ],
   "source": [
    "new = data.pivot_table(\n",
    " values=\"id\",\n",
    " index=\"body_camera\",\n",
    " columns=\"race\",\n",
    " aggfunc=\"count\"\n",
    " )\n",
    "new=(new/new.sum()).T\n",
    "\n",
    "ax = new.plot(kind='bar', stacked=True, rot=0,\n",
    " title='Percentage of shooting that was recording by body Camera for different races')\n",
    "\n",
    "ax.legend((\"False\",\"True\"), loc='center left', bbox_to_anchor=(1.0, 0.5))\n",
    "ax.set_ylabel(\"camera ratio\");"
   ]
  },
  {
   "cell_type": "markdown",
   "metadata": {},
   "source": [
    "## Bar plot (IV): Correlation between camera status and mental illness"
   ]
  },
  {
   "cell_type": "code",
   "execution_count": 43,
   "metadata": {},
   "outputs": [
    {
     "data": {
      "text/plain": [
       "Text(0, 0.5, 'ratio')"
      ]
     },
     "execution_count": 43,
     "metadata": {},
     "output_type": "execute_result"
    },
    {
     "data": {
      "image/png": "[encoded data removed]",
      "text/plain": [
       "<Figure size 432x288 with 1 Axes>"
      ]
     },
     "metadata": {
      "needs_background": "light"
     },
     "output_type": "display_data"
    }
   ],
   "source": [
    "new = data.pivot_table(\n",
    " values=\"id\",\n",
    " index=\"signs_of_mental_illness\",\n",
    " columns=\"body_camera\",\n",
    " aggfunc=\"count\"\n",
    " )\n",
    "new=(new/new.sum()).T\n",
    "\n",
    "ax = new.plot(kind='bar', stacked=True, rot=0,\n",
    " title='Body camera and mental illness')\n",
    "\n",
    "ax.legend((\"False\",\"True\"), loc='center left', bbox_to_anchor=(1.0, 0.5))\n",
    "ax.set_ylabel(\"ratio\")"
   ]
  },
  {
   "cell_type": "markdown",
   "metadata": {},
   "source": [
    "## Bar plot (V):  Explore the correlations between camera status and flee type"
   ]
  },
  {
   "cell_type": "code",
   "execution_count": 44,
   "metadata": {},
   "outputs": [],
   "source": [
    "df=pd.DataFrame({\n",
    "    'Flee Type':[\"car_cam_on\", \"car_cam_off\",\"feet_cam_on\", \"feet_cam_off\"] ,\n",
    "    'percentage': [0.129310/(0.129310+0.178808),0.178808/(0.129310+0.178808),0.178161/(0.134437+0.178161),0.134437/(0.134437+0.178161)]\n",
    "})"
   ]
  },
  {
   "cell_type": "code",
   "execution_count": 45,
   "metadata": {},
   "outputs": [
    {
     "data": {
      "text/html": [
       "\n",
       "<div id=\"altair-viz-e299c966ac2c4375b7a5a70a045493eb\"></div>\n",
       "<script type=\"text/javascript\">\n",
       "  (function(spec, embedOpt){\n",
       "    let outputDiv = document.currentScript.previousElementSibling;\n",
       "    if (outputDiv.id !== \"altair-viz-e299c966ac2c4375b7a5a70a045493eb\") {\n",
       "      outputDiv = document.getElementById(\"altair-viz-e299c966ac2c4375b7a5a70a045493eb\");\n",
       "    }\n",
       "    const paths = {\n",
       "      \"vega\": \"https://cdn.jsdelivr.net/npm//vega@5?noext\",\n",
       "      \"vega-lib\": \"https://cdn.jsdelivr.net/npm//vega-lib?noext\",\n",
       "      \"vega-lite\": \"https://cdn.jsdelivr.net/npm//vega-lite@4.8.1?noext\",\n",
       "      \"vega-embed\": \"https://cdn.jsdelivr.net/npm//vega-embed@6?noext\",\n",
       "    };\n",
       "\n",
       "    function loadScript(lib) {\n",
       "      return new Promise(function(resolve, reject) {\n",
       "        var s = document.createElement('script');\n",
       "        s.src = paths[lib];\n",
       "        s.async = true;\n",
       "        s.onload = () => resolve(paths[lib]);\n",
       "        s.onerror = () => reject(`Error loading script: ${paths[lib]}`);\n",
       "        document.getElementsByTagName(\"head\")[0].appendChild(s);\n",
       "      });\n",
       "    }\n",
       "\n",
       "    function showError(err) {\n",
       "      outputDiv.innerHTML = `<div class=\"error\" style=\"color:red;\">${err}</div>`;\n",
       "      throw err;\n",
       "    }\n",
       "\n",
       "    function displayChart(vegaEmbed) {\n",
       "      vegaEmbed(outputDiv, spec, embedOpt)\n",
       "        .catch(err => showError(`Javascript Error: ${err.message}<br>This usually means there's a typo in your chart specification. See the javascript console for the full traceback.`));\n",
       "    }\n",
       "\n",
       "    if(typeof define === \"function\" && define.amd) {\n",
       "      requirejs.config({paths});\n",
       "      require([\"vega-embed\"], displayChart, err => showError(`Error loading script: ${err.message}`));\n",
       "    } else if (typeof vegaEmbed === \"function\") {\n",
       "      displayChart(vegaEmbed);\n",
       "    } else {\n",
       "      loadScript(\"vega\")\n",
       "        .then(() => loadScript(\"vega-lite\"))\n",
       "        .then(() => loadScript(\"vega-embed\"))\n",
       "        .catch(showError)\n",
       "        .then(() => displayChart(vegaEmbed));\n",
       "    }\n",
       "  })({\"config\": {\"view\": {\"continuousWidth\": 400, \"continuousHeight\": 300}}, \"data\": {\"name\": \"data-6732e68b8151811ab2a0dae97c448af6\"}, \"mark\": \"bar\", \"encoding\": {\"x\": {\"type\": \"nominal\", \"field\": \"Flee Type\"}, \"y\": {\"type\": \"quantitative\", \"field\": \"percentage\"}}, \"$schema\": \"https://vega.github.io/schema/vega-lite/v4.8.1.json\", \"datasets\": {\"data-6732e68b8151811ab2a0dae97c448af6\": [{\"Flee Type\": \"car_cam_on\", \"percentage\": 0.41967687704061435}, {\"Flee Type\": \"car_cam_off\", \"percentage\": 0.5803231229593857}, {\"Flee Type\": \"feet_cam_on\", \"percentage\": 0.5699364679236592}, {\"Flee Type\": \"feet_cam_off\", \"percentage\": 0.4300635320763408}]}}, {\"mode\": \"vega-lite\"});\n",
       "</script>"
      ],
      "text/plain": [
       "alt.Chart(...)"
      ]
     },
     "execution_count": 45,
     "metadata": {},
     "output_type": "execute_result"
    }
   ],
   "source": [
    "alt.Chart(df).mark_bar().encode(\n",
    "    x='Flee Type',\n",
    "    y='percentage'\n",
    ")"
   ]
  },
  {
   "cell_type": "markdown",
   "metadata": {},
   "source": [
    "## Bar plot (VI):  Explore the correlations between camera status and threat level"
   ]
  },
  {
   "cell_type": "code",
   "execution_count": 48,
   "metadata": {},
   "outputs": [
    {
     "data": {
      "text/html": [
       "\n",
       "<div id=\"altair-viz-2ebad0a2e79d4119b03520be4424be56\"></div>\n",
       "<script type=\"text/javascript\">\n",
       "  (function(spec, embedOpt){\n",
       "    let outputDiv = document.currentScript.previousElementSibling;\n",
       "    if (outputDiv.id !== \"altair-viz-2ebad0a2e79d4119b03520be4424be56\") {\n",
       "      outputDiv = document.getElementById(\"altair-viz-2ebad0a2e79d4119b03520be4424be56\");\n",
       "    }\n",
       "    const paths = {\n",
       "      \"vega\": \"https://cdn.jsdelivr.net/npm//vega@5?noext\",\n",
       "      \"vega-lib\": \"https://cdn.jsdelivr.net/npm//vega-lib?noext\",\n",
       "      \"vega-lite\": \"https://cdn.jsdelivr.net/npm//vega-lite@4.8.1?noext\",\n",
       "      \"vega-embed\": \"https://cdn.jsdelivr.net/npm//vega-embed@6?noext\",\n",
       "    };\n",
       "\n",
       "    function loadScript(lib) {\n",
       "      return new Promise(function(resolve, reject) {\n",
       "        var s = document.createElement('script');\n",
       "        s.src = paths[lib];\n",
       "        s.async = true;\n",
       "        s.onload = () => resolve(paths[lib]);\n",
       "        s.onerror = () => reject(`Error loading script: ${paths[lib]}`);\n",
       "        document.getElementsByTagName(\"head\")[0].appendChild(s);\n",
       "      });\n",
       "    }\n",
       "\n",
       "    function showError(err) {\n",
       "      outputDiv.innerHTML = `<div class=\"error\" style=\"color:red;\">${err}</div>`;\n",
       "      throw err;\n",
       "    }\n",
       "\n",
       "    function displayChart(vegaEmbed) {\n",
       "      vegaEmbed(outputDiv, spec, embedOpt)\n",
       "        .catch(err => showError(`Javascript Error: ${err.message}<br>This usually means there's a typo in your chart specification. See the javascript console for the full traceback.`));\n",
       "    }\n",
       "\n",
       "    if(typeof define === \"function\" && define.amd) {\n",
       "      requirejs.config({paths});\n",
       "      require([\"vega-embed\"], displayChart, err => showError(`Error loading script: ${err.message}`));\n",
       "    } else if (typeof vegaEmbed === \"function\") {\n",
       "      displayChart(vegaEmbed);\n",
       "    } else {\n",
       "      loadScript(\"vega\")\n",
       "        .then(() => loadScript(\"vega-lite\"))\n",
       "        .then(() => loadScript(\"vega-embed\"))\n",
       "        .catch(showError)\n",
       "        .then(() => displayChart(vegaEmbed));\n",
       "    }\n",
       "  })({\"config\": {\"view\": {\"continuousWidth\": 400, \"continuousHeight\": 300}}, \"data\": {\"name\": \"data-7de54ed31b05b124c2168fcbdf0f0c5f\"}, \"mark\": \"bar\", \"encoding\": {\"x\": {\"type\": \"nominal\", \"field\": \"camera\"}, \"y\": {\"type\": \"quantitative\", \"field\": \"percentage\"}}, \"$schema\": \"https://vega.github.io/schema/vega-lite/v4.8.1.json\", \"datasets\": {\"data-7de54ed31b05b124c2168fcbdf0f0c5f\": [{\"camera\": \"on\", \"percentage\": 0.5899182561307902}, {\"camera\": \"off\", \"percentage\": 0.4100817438692098}]}}, {\"mode\": \"vega-lite\"});\n",
       "</script>"
      ],
      "text/plain": [
       "alt.Chart(...)"
      ]
     },
     "execution_count": 48,
     "metadata": {},
     "output_type": "execute_result"
    }
   ],
   "source": [
    "p1=(data[data[\"body_camera\"]==True][\"threat_level\"]==\"attack\").mean()\n",
    "p2=1-p1\n",
    "df=pd.DataFrame({\"camera\":[\"on\",\"off\"],\"percentage\":[p1,p2]})\n",
    "alt.Chart(df).mark_bar().encode(\n",
    "    x=\"camera\",\n",
    "    y='percentage'\n",
    ")"
   ]
  }
 ],
 "metadata": {
  "kernelspec": {
   "display_name": "Python 3",
   "language": "python",
   "name": "python3"
  },
  "language_info": {
   "codemirror_mode": {
    "name": "ipython",
    "version": 3
   },
   "file_extension": ".py",
   "mimetype": "text/x-python",
   "name": "python",
   "nbconvert_exporter": "python",
   "pygments_lexer": "ipython3",
   "version": "3.8.5"
  }
 },
 "nbformat": 4,
 "nbformat_minor": 4
}
